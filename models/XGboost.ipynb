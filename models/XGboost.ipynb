{
 "cells": [
  {
   "cell_type": "code",
   "execution_count": 33,
   "metadata": {},
   "outputs": [],
   "source": [
    "import pandas as pd\n",
    "import numpy as np\n",
    "import matplotlib.pyplot as plt\n",
    "import seaborn as sns\n",
    "import warnings\n",
    "warnings.filterwarnings(\"ignore\")"
   ]
  },
  {
   "cell_type": "code",
   "execution_count": 34,
   "metadata": {},
   "outputs": [],
   "source": [
    "xgdf = pd.read_csv('../processed-data/processed-data.csv')"
   ]
  },
  {
   "cell_type": "markdown",
   "metadata": {},
   "source": [
    "Now let us see what is the dataset which we will be working with for the classification"
   ]
  },
  {
   "cell_type": "code",
   "execution_count": 35,
   "metadata": {},
   "outputs": [
    {
     "data": {
      "text/html": [
       "<div>\n",
       "<style scoped>\n",
       "    .dataframe tbody tr th:only-of-type {\n",
       "        vertical-align: middle;\n",
       "    }\n",
       "\n",
       "    .dataframe tbody tr th {\n",
       "        vertical-align: top;\n",
       "    }\n",
       "\n",
       "    .dataframe thead th {\n",
       "        text-align: right;\n",
       "    }\n",
       "</style>\n",
       "<table border=\"1\" class=\"dataframe\">\n",
       "  <thead>\n",
       "    <tr style=\"text-align: right;\">\n",
       "      <th></th>\n",
       "      <th>Unnamed: 0</th>\n",
       "      <th>Age</th>\n",
       "      <th>Occupation</th>\n",
       "      <th>Annual_Income</th>\n",
       "      <th>Num_Bank_Accounts</th>\n",
       "      <th>Interest_Rate</th>\n",
       "      <th>Num_of_Loan</th>\n",
       "      <th>Num_of_Delayed_Payment</th>\n",
       "      <th>Num_Credit_Inquiries</th>\n",
       "      <th>Credit_Mix</th>\n",
       "      <th>Credit_Utilization_Ratio</th>\n",
       "      <th>Credit_History_Age</th>\n",
       "      <th>Payment_of_Min_Amount</th>\n",
       "      <th>Total_EMI_per_month</th>\n",
       "      <th>Amount_invested_monthly</th>\n",
       "      <th>Payment_Behaviour</th>\n",
       "      <th>Monthly_Balance</th>\n",
       "      <th>Credit_Score</th>\n",
       "      <th>pca_component_1</th>\n",
       "      <th>pca_component_2</th>\n",
       "    </tr>\n",
       "  </thead>\n",
       "  <tbody>\n",
       "    <tr>\n",
       "      <th>0</th>\n",
       "      <td>0</td>\n",
       "      <td>23</td>\n",
       "      <td>12</td>\n",
       "      <td>19114.12</td>\n",
       "      <td>3</td>\n",
       "      <td>3</td>\n",
       "      <td>4</td>\n",
       "      <td>7.0</td>\n",
       "      <td>1</td>\n",
       "      <td>1.0</td>\n",
       "      <td>26.822620</td>\n",
       "      <td>22.0833</td>\n",
       "      <td>0</td>\n",
       "      <td>49.574949</td>\n",
       "      <td>4.387204</td>\n",
       "      <td>3</td>\n",
       "      <td>312.494089</td>\n",
       "      <td>2.0</td>\n",
       "      <td>-616.432092</td>\n",
       "      <td>-13.474437</td>\n",
       "    </tr>\n",
       "    <tr>\n",
       "      <th>1</th>\n",
       "      <td>1</td>\n",
       "      <td>23</td>\n",
       "      <td>12</td>\n",
       "      <td>19114.12</td>\n",
       "      <td>3</td>\n",
       "      <td>3</td>\n",
       "      <td>4</td>\n",
       "      <td>14.0</td>\n",
       "      <td>1</td>\n",
       "      <td>2.0</td>\n",
       "      <td>31.944960</td>\n",
       "      <td>0.0000</td>\n",
       "      <td>0</td>\n",
       "      <td>49.574949</td>\n",
       "      <td>4.773057</td>\n",
       "      <td>4</td>\n",
       "      <td>284.629162</td>\n",
       "      <td>2.0</td>\n",
       "      <td>-616.461504</td>\n",
       "      <td>-17.472881</td>\n",
       "    </tr>\n",
       "    <tr>\n",
       "      <th>2</th>\n",
       "      <td>3</td>\n",
       "      <td>23</td>\n",
       "      <td>12</td>\n",
       "      <td>19114.12</td>\n",
       "      <td>3</td>\n",
       "      <td>3</td>\n",
       "      <td>4</td>\n",
       "      <td>4.0</td>\n",
       "      <td>1</td>\n",
       "      <td>2.0</td>\n",
       "      <td>31.377862</td>\n",
       "      <td>22.3333</td>\n",
       "      <td>0</td>\n",
       "      <td>49.574949</td>\n",
       "      <td>5.295604</td>\n",
       "      <td>6</td>\n",
       "      <td>223.451310</td>\n",
       "      <td>2.0</td>\n",
       "      <td>-616.410033</td>\n",
       "      <td>-10.475604</td>\n",
       "    </tr>\n",
       "    <tr>\n",
       "      <th>3</th>\n",
       "      <td>4</td>\n",
       "      <td>23</td>\n",
       "      <td>12</td>\n",
       "      <td>19114.12</td>\n",
       "      <td>3</td>\n",
       "      <td>3</td>\n",
       "      <td>4</td>\n",
       "      <td>14.0</td>\n",
       "      <td>1</td>\n",
       "      <td>2.0</td>\n",
       "      <td>24.797347</td>\n",
       "      <td>22.4167</td>\n",
       "      <td>0</td>\n",
       "      <td>49.574949</td>\n",
       "      <td>3.723768</td>\n",
       "      <td>2</td>\n",
       "      <td>341.489231</td>\n",
       "      <td>2.0</td>\n",
       "      <td>-616.400608</td>\n",
       "      <td>-8.530153</td>\n",
       "    </tr>\n",
       "    <tr>\n",
       "      <th>4</th>\n",
       "      <td>5</td>\n",
       "      <td>23</td>\n",
       "      <td>12</td>\n",
       "      <td>19114.12</td>\n",
       "      <td>3</td>\n",
       "      <td>3</td>\n",
       "      <td>4</td>\n",
       "      <td>4.0</td>\n",
       "      <td>1</td>\n",
       "      <td>2.0</td>\n",
       "      <td>27.262259</td>\n",
       "      <td>22.5000</td>\n",
       "      <td>0</td>\n",
       "      <td>49.574949</td>\n",
       "      <td>4.134049</td>\n",
       "      <td>0</td>\n",
       "      <td>340.479212</td>\n",
       "      <td>2.0</td>\n",
       "      <td>-616.432092</td>\n",
       "      <td>-13.474437</td>\n",
       "    </tr>\n",
       "  </tbody>\n",
       "</table>\n",
       "</div>"
      ],
      "text/plain": [
       "   Unnamed: 0  Age  Occupation  Annual_Income  Num_Bank_Accounts  \\\n",
       "0           0   23          12       19114.12                  3   \n",
       "1           1   23          12       19114.12                  3   \n",
       "2           3   23          12       19114.12                  3   \n",
       "3           4   23          12       19114.12                  3   \n",
       "4           5   23          12       19114.12                  3   \n",
       "\n",
       "   Interest_Rate  Num_of_Loan  Num_of_Delayed_Payment  Num_Credit_Inquiries  \\\n",
       "0              3            4                     7.0                     1   \n",
       "1              3            4                    14.0                     1   \n",
       "2              3            4                     4.0                     1   \n",
       "3              3            4                    14.0                     1   \n",
       "4              3            4                     4.0                     1   \n",
       "\n",
       "   Credit_Mix  Credit_Utilization_Ratio  Credit_History_Age  \\\n",
       "0         1.0                 26.822620             22.0833   \n",
       "1         2.0                 31.944960              0.0000   \n",
       "2         2.0                 31.377862             22.3333   \n",
       "3         2.0                 24.797347             22.4167   \n",
       "4         2.0                 27.262259             22.5000   \n",
       "\n",
       "   Payment_of_Min_Amount  Total_EMI_per_month  Amount_invested_monthly  \\\n",
       "0                      0            49.574949                 4.387204   \n",
       "1                      0            49.574949                 4.773057   \n",
       "2                      0            49.574949                 5.295604   \n",
       "3                      0            49.574949                 3.723768   \n",
       "4                      0            49.574949                 4.134049   \n",
       "\n",
       "   Payment_Behaviour  Monthly_Balance  Credit_Score  pca_component_1  \\\n",
       "0                  3       312.494089           2.0      -616.432092   \n",
       "1                  4       284.629162           2.0      -616.461504   \n",
       "2                  6       223.451310           2.0      -616.410033   \n",
       "3                  2       341.489231           2.0      -616.400608   \n",
       "4                  0       340.479212           2.0      -616.432092   \n",
       "\n",
       "   pca_component_2  \n",
       "0       -13.474437  \n",
       "1       -17.472881  \n",
       "2       -10.475604  \n",
       "3        -8.530153  \n",
       "4       -13.474437  "
      ]
     },
     "execution_count": 35,
     "metadata": {},
     "output_type": "execute_result"
    }
   ],
   "source": [
    "xgdf.head()"
   ]
  },
  {
   "cell_type": "code",
   "execution_count": 36,
   "metadata": {},
   "outputs": [
    {
     "data": {
      "text/plain": [
       "(97230, 20)"
      ]
     },
     "execution_count": 36,
     "metadata": {},
     "output_type": "execute_result"
    }
   ],
   "source": [
    "xgdf.shape"
   ]
  },
  {
   "cell_type": "code",
   "execution_count": 37,
   "metadata": {},
   "outputs": [
    {
     "data": {
      "text/plain": [
       "Unnamed: 0                    int64\n",
       "Age                           int64\n",
       "Occupation                    int64\n",
       "Annual_Income               float64\n",
       "Num_Bank_Accounts             int64\n",
       "Interest_Rate                 int64\n",
       "Num_of_Loan                   int64\n",
       "Num_of_Delayed_Payment      float64\n",
       "Num_Credit_Inquiries          int64\n",
       "Credit_Mix                  float64\n",
       "Credit_Utilization_Ratio    float64\n",
       "Credit_History_Age          float64\n",
       "Payment_of_Min_Amount         int64\n",
       "Total_EMI_per_month         float64\n",
       "Amount_invested_monthly     float64\n",
       "Payment_Behaviour             int64\n",
       "Monthly_Balance             float64\n",
       "Credit_Score                float64\n",
       "pca_component_1             float64\n",
       "pca_component_2             float64\n",
       "dtype: object"
      ]
     },
     "execution_count": 37,
     "metadata": {},
     "output_type": "execute_result"
    }
   ],
   "source": [
    "xgdf.dtypes"
   ]
  },
  {
   "cell_type": "code",
   "execution_count": 38,
   "metadata": {},
   "outputs": [
    {
     "data": {
      "text/plain": [
       "Unnamed: 0                  0\n",
       "Age                         0\n",
       "Occupation                  0\n",
       "Annual_Income               0\n",
       "Num_Bank_Accounts           0\n",
       "Interest_Rate               0\n",
       "Num_of_Loan                 0\n",
       "Num_of_Delayed_Payment      0\n",
       "Num_Credit_Inquiries        0\n",
       "Credit_Mix                  0\n",
       "Credit_Utilization_Ratio    0\n",
       "Credit_History_Age          0\n",
       "Payment_of_Min_Amount       0\n",
       "Total_EMI_per_month         0\n",
       "Amount_invested_monthly     0\n",
       "Payment_Behaviour           0\n",
       "Monthly_Balance             0\n",
       "Credit_Score                0\n",
       "pca_component_1             0\n",
       "pca_component_2             0\n",
       "dtype: int64"
      ]
     },
     "execution_count": 38,
     "metadata": {},
     "output_type": "execute_result"
    }
   ],
   "source": [
    "xgdf.isna().sum()"
   ]
  },
  {
   "cell_type": "code",
   "execution_count": 39,
   "metadata": {},
   "outputs": [
    {
     "data": {
      "text/plain": [
       "(97230, 19)"
      ]
     },
     "execution_count": 39,
     "metadata": {},
     "output_type": "execute_result"
    }
   ],
   "source": [
    "xgdf.drop(columns='Unnamed: 0',axis = 1,inplace=True)\n",
    "xgdf.dropna(inplace=True)\n",
    "xgdf.shape"
   ]
  },
  {
   "cell_type": "markdown",
   "metadata": {},
   "source": [
    "We are dealing with a dataset which has over 90,000 records and 19 columns so we shall first sample the data to reduce the number of records to work with to increase the accuracy of the svm model.\n",
    "\n",
    "To handle data imbalance we will take undersampled records from each of the three target variable categories and find out the optimum number for the model analysis.\n"
   ]
  },
  {
   "cell_type": "code",
   "execution_count": 40,
   "metadata": {},
   "outputs": [],
   "source": [
    "from sklearn.model_selection import train_test_split\n",
    "import xgboost as xgb\n",
    "from sklearn.metrics import confusion_matrix\n",
    "from sklearn.metrics import precision_score, recall_score,f1_score,accuracy_score\n",
    "\n"
   ]
  },
  {
   "cell_type": "code",
   "execution_count": 41,
   "metadata": {},
   "outputs": [],
   "source": [
    "def confusion_matrix_display(actual,predicted,n):\n",
    "    conf_matrix =confusion_matrix(actual, predicted)\n",
    "    print(f\"confusion matrix heatmap for {n} records:\")\n",
    "    plt.figure(figsize=(4, 3))\n",
    "    sns.heatmap(conf_matrix, fmt='d', cmap='Blues', cbar=False,\n",
    "            xticklabels=['Predicted Poor', 'Predicted Standard','Predicted Good'],\n",
    "            yticklabels=['True Poor', 'True Standard','True Good'])\n",
    "    plt.xlabel('Predicted')\n",
    "    plt.ylabel('Actual')\n",
    "    plt.title('Confusion Matrix')\n",
    "    plt.show()\n",
    "    "
   ]
  },
  {
   "cell_type": "code",
   "execution_count": 42,
   "metadata": {},
   "outputs": [
    {
     "name": "stdout",
     "output_type": "stream",
     "text": [
      "confusion matrix heatmap for 3000 records:\n"
     ]
    },
    {
     "data": {
      "image/png": "[encoded data removed]",
      "text/plain": [
       "<Figure size 400x300 with 1 Axes>"
      ]
     },
     "metadata": {},
     "output_type": "display_data"
    },
    {
     "name": "stdout",
     "output_type": "stream",
     "text": [
      "confusion matrix heatmap for 6000 records:\n"
     ]
    },
    {
     "data": {
      "image/png": "[encoded data removed]",
      "text/plain": [
       "<Figure size 400x300 with 1 Axes>"
      ]
     },
     "metadata": {},
     "output_type": "display_data"
    },
    {
     "name": "stdout",
     "output_type": "stream",
     "text": [
      "confusion matrix heatmap for 9000 records:\n"
     ]
    },
    {
     "data": {
      "image/png": "[encoded data removed]",
      "text/plain": [
       "<Figure size 400x300 with 1 Axes>"
      ]
     },
     "metadata": {},
     "output_type": "display_data"
    },
    {
     "name": "stdout",
     "output_type": "stream",
     "text": [
      "confusion matrix heatmap for 12000 records:\n"
     ]
    },
    {
     "data": {
      "image/png": "[encoded data removed]",
      "text/plain": [
       "<Figure size 400x300 with 1 Axes>"
      ]
     },
     "metadata": {},
     "output_type": "display_data"
    },
    {
     "name": "stdout",
     "output_type": "stream",
     "text": [
      "confusion matrix heatmap for 15000 records:\n"
     ]
    },
    {
     "data": {
      "image/png": "[encoded data removed]",
      "text/plain": [
       "<Figure size 400x300 with 1 Axes>"
      ]
     },
     "metadata": {},
     "output_type": "display_data"
    },
    {
     "name": "stdout",
     "output_type": "stream",
     "text": [
      "confusion matrix heatmap for 30000 records:\n"
     ]
    },
    {
     "data": {
      "image/png": "[encoded data removed]",
      "text/plain": [
       "<Figure size 400x300 with 1 Axes>"
      ]
     },
     "metadata": {},
     "output_type": "display_data"
    },
    {
     "name": "stdout",
     "output_type": "stream",
     "text": [
      "confusion matrix heatmap for 45000 records:\n"
     ]
    },
    {
     "data": {
      "image/png": "[encoded data removed]",
      "text/plain": [
       "<Figure size 400x300 with 1 Axes>"
      ]
     },
     "metadata": {},
     "output_type": "display_data"
    }
   ],
   "source": [
    "data = []\n",
    "init_accuracy = 0\n",
    "hmm = [[]]\n",
    "def xgb_accuracy(n=[1000,2000,3000,4000,5000,10000,15000],xgdf = xgdf,hmm = hmm):\n",
    "    for i in n:\n",
    "        df0 = xgdf[xgdf['Credit_Score']==0]\n",
    "        df1 = xgdf[xgdf['Credit_Score']==1]\n",
    "        df2 = xgdf[xgdf['Credit_Score']==2]\n",
    "        \n",
    "\n",
    "        \n",
    "        df0 = df0.sample(replace = False,n =i,random_state=42)\n",
    "        df1 = df1.sample(replace = False,n = i,random_state=42)\n",
    "        df2 = df2.sample(replace = False,n = i,random_state=42)\n",
    "        final_df = pd.concat([df0,df1,df2])\n",
    "\n",
    "        X = final_df.drop(columns=['Credit_Score','Amount_invested_monthly'],axis=1)\n",
    "        y = final_df['Credit_Score']\n",
    "\n",
    "\n",
    "        X_train,X_test,y_train,y_test = train_test_split(X,y,test_size=0.25,random_state=42)\n",
    "\n",
    "\n",
    "        model = xgb.XGBClassifier()\n",
    "        model.fit(X_train, y_train)\n",
    "\n",
    "        y_pred = model.predict(X_test)\n",
    "        accuracy = accuracy_score(y_test, y_pred)\n",
    "        precision = precision_score(y_test,y_pred,average = 'weighted')\n",
    "        f1 = f1_score(y_test,y_pred,average = 'weighted')\n",
    "        recall = recall_score(y_test,y_pred,average = 'weighted')\n",
    "\n",
    "        confusion_matrix_display(y_test,y_pred,i*3)\n",
    "\n",
    "\n",
    "\n",
    "        indexx = i*3\n",
    "        l1 = [indexx,accuracy,precision,f1,recall]\n",
    "        data.append(l1)\n",
    "\n",
    "    \n",
    "xgb_accuracy()\n",
    "\n"
   ]
  },
  {
   "cell_type": "code",
   "execution_count": 43,
   "metadata": {},
   "outputs": [
    {
     "data": {
      "text/html": [
       "<div>\n",
       "<style scoped>\n",
       "    .dataframe tbody tr th:only-of-type {\n",
       "        vertical-align: middle;\n",
       "    }\n",
       "\n",
       "    .dataframe tbody tr th {\n",
       "        vertical-align: top;\n",
       "    }\n",
       "\n",
       "    .dataframe thead th {\n",
       "        text-align: right;\n",
       "    }\n",
       "</style>\n",
       "<table border=\"1\" class=\"dataframe\">\n",
       "  <thead>\n",
       "    <tr style=\"text-align: right;\">\n",
       "      <th></th>\n",
       "      <th>Iterations</th>\n",
       "      <th>Accuracy</th>\n",
       "      <th>Precision</th>\n",
       "      <th>Recall</th>\n",
       "      <th>F1-score</th>\n",
       "    </tr>\n",
       "  </thead>\n",
       "  <tbody>\n",
       "    <tr>\n",
       "      <th>0</th>\n",
       "      <td>3000</td>\n",
       "      <td>0.658667</td>\n",
       "      <td>0.656542</td>\n",
       "      <td>0.653177</td>\n",
       "      <td>0.658667</td>\n",
       "    </tr>\n",
       "    <tr>\n",
       "      <th>1</th>\n",
       "      <td>6000</td>\n",
       "      <td>0.668000</td>\n",
       "      <td>0.668825</td>\n",
       "      <td>0.664861</td>\n",
       "      <td>0.668000</td>\n",
       "    </tr>\n",
       "    <tr>\n",
       "      <th>2</th>\n",
       "      <td>9000</td>\n",
       "      <td>0.684000</td>\n",
       "      <td>0.682290</td>\n",
       "      <td>0.679105</td>\n",
       "      <td>0.684000</td>\n",
       "    </tr>\n",
       "    <tr>\n",
       "      <th>3</th>\n",
       "      <td>12000</td>\n",
       "      <td>0.691333</td>\n",
       "      <td>0.688045</td>\n",
       "      <td>0.687458</td>\n",
       "      <td>0.691333</td>\n",
       "    </tr>\n",
       "    <tr>\n",
       "      <th>4</th>\n",
       "      <td>15000</td>\n",
       "      <td>0.698667</td>\n",
       "      <td>0.696458</td>\n",
       "      <td>0.695819</td>\n",
       "      <td>0.698667</td>\n",
       "    </tr>\n",
       "    <tr>\n",
       "      <th>5</th>\n",
       "      <td>30000</td>\n",
       "      <td>0.713867</td>\n",
       "      <td>0.713572</td>\n",
       "      <td>0.709291</td>\n",
       "      <td>0.713867</td>\n",
       "    </tr>\n",
       "    <tr>\n",
       "      <th>6</th>\n",
       "      <td>45000</td>\n",
       "      <td>0.721333</td>\n",
       "      <td>0.721260</td>\n",
       "      <td>0.716991</td>\n",
       "      <td>0.721333</td>\n",
       "    </tr>\n",
       "  </tbody>\n",
       "</table>\n",
       "</div>"
      ],
      "text/plain": [
       "   Iterations  Accuracy  Precision    Recall  F1-score\n",
       "0        3000  0.658667   0.656542  0.653177  0.658667\n",
       "1        6000  0.668000   0.668825  0.664861  0.668000\n",
       "2        9000  0.684000   0.682290  0.679105  0.684000\n",
       "3       12000  0.691333   0.688045  0.687458  0.691333\n",
       "4       15000  0.698667   0.696458  0.695819  0.698667\n",
       "5       30000  0.713867   0.713572  0.709291  0.713867\n",
       "6       45000  0.721333   0.721260  0.716991  0.721333"
      ]
     },
     "execution_count": 43,
     "metadata": {},
     "output_type": "execute_result"
    }
   ],
   "source": [
    "columns = ['Iterations','Accuracy','Precision', 'Recall', 'F1-score']\n",
    "scores_df = pd.DataFrame(columns=columns,data=data)\n",
    "scores_df"
   ]
  },
  {
   "cell_type": "markdown",
   "metadata": {},
   "source": [
    "- We have experimented with various test sizes over how the model performs over each one of them. We find that the model gives best performance with 12000 records so we shall now see how it performs after tuning its hyperparameters."
   ]
  },
  {
   "cell_type": "markdown",
   "metadata": {},
   "source": [
    "### HYPERPARAMETER TUNING"
   ]
  },
  {
   "cell_type": "code",
   "execution_count": 44,
   "metadata": {},
   "outputs": [],
   "source": [
    "from sklearn.model_selection import KFold,cross_val_score, RepeatedStratifiedKFold,StratifiedKFold,GridSearchCV\n"
   ]
  },
  {
   "cell_type": "code",
   "execution_count": 51,
   "metadata": {},
   "outputs": [],
   "source": [
    "df0 = xgdf[xgdf['Credit_Score']==0]\n",
    "df1 = xgdf[xgdf['Credit_Score']==1]\n",
    "df2 = xgdf[xgdf['Credit_Score']==2]\n",
    "        \n",
    "\n",
    "        \n",
    "df0 = df0.sample(replace = False,n =15000,random_state=42)\n",
    "df1 = df1.sample(replace = False,n = 15000,random_state=42)\n",
    "df2 = df2.sample(replace = False,n = 15000,random_state=42)\n",
    "final_df = pd.concat([df0,df1,df2])\n",
    "\n",
    "X = final_df.drop(columns=['Credit_Score','Amount_invested_monthly'],axis=1)\n",
    "y = final_df['Credit_Score']\n",
    "X_train,X_test,y_train,y_test = train_test_split(X,y,test_size=0.25,random_state=42)"
   ]
  },
  {
   "cell_type": "code",
   "execution_count": 53,
   "metadata": {},
   "outputs": [
    {
     "name": "stdout",
     "output_type": "stream",
     "text": [
      "Best Hyperparameters: {'learning_rate': 0.05, 'max_depth': 6, 'n_estimators': 300}\n"
     ]
    },
    {
     "data": {
      "text/html": [
       "<style>#sk-container-id-4 {color: black;background-color: white;}#sk-container-id-4 pre{padding: 0;}#sk-container-id-4 div.sk-toggleable {background-color: white;}#sk-container-id-4 label.sk-toggleable__label {cursor: pointer;display: block;width: 100%;margin-bottom: 0;padding: 0.3em;box-sizing: border-box;text-align: center;}#sk-container-id-4 label.sk-toggleable__label-arrow:before {content: \"▸\";float: left;margin-right: 0.25em;color: #696969;}#sk-container-id-4 label.sk-toggleable__label-arrow:hover:before {color: black;}#sk-container-id-4 div.sk-estimator:hover label.sk-toggleable__label-arrow:before {color: black;}#sk-container-id-4 div.sk-toggleable__content {max-height: 0;max-width: 0;overflow: hidden;text-align: left;background-color: #f0f8ff;}#sk-container-id-4 div.sk-toggleable__content pre {margin: 0.2em;color: black;border-radius: 0.25em;background-color: #f0f8ff;}#sk-container-id-4 input.sk-toggleable__control:checked~div.sk-toggleable__content {max-height: 200px;max-width: 100%;overflow: auto;}#sk-container-id-4 input.sk-toggleable__control:checked~label.sk-toggleable__label-arrow:before {content: \"▾\";}#sk-container-id-4 div.sk-estimator input.sk-toggleable__control:checked~label.sk-toggleable__label {background-color: #d4ebff;}#sk-container-id-4 div.sk-label input.sk-toggleable__control:checked~label.sk-toggleable__label {background-color: #d4ebff;}#sk-container-id-4 input.sk-hidden--visually {border: 0;clip: rect(1px 1px 1px 1px);clip: rect(1px, 1px, 1px, 1px);height: 1px;margin: -1px;overflow: hidden;padding: 0;position: absolute;width: 1px;}#sk-container-id-4 div.sk-estimator {font-family: monospace;background-color: #f0f8ff;border: 1px dotted black;border-radius: 0.25em;box-sizing: border-box;margin-bottom: 0.5em;}#sk-container-id-4 div.sk-estimator:hover {background-color: #d4ebff;}#sk-container-id-4 div.sk-parallel-item::after {content: \"\";width: 100%;border-bottom: 1px solid gray;flex-grow: 1;}#sk-container-id-4 div.sk-label:hover label.sk-toggleable__label {background-color: #d4ebff;}#sk-container-id-4 div.sk-serial::before {content: \"\";position: absolute;border-left: 1px solid gray;box-sizing: border-box;top: 0;bottom: 0;left: 50%;z-index: 0;}#sk-container-id-4 div.sk-serial {display: flex;flex-direction: column;align-items: center;background-color: white;padding-right: 0.2em;padding-left: 0.2em;position: relative;}#sk-container-id-4 div.sk-item {position: relative;z-index: 1;}#sk-container-id-4 div.sk-parallel {display: flex;align-items: stretch;justify-content: center;background-color: white;position: relative;}#sk-container-id-4 div.sk-item::before, #sk-container-id-4 div.sk-parallel-item::before {content: \"\";position: absolute;border-left: 1px solid gray;box-sizing: border-box;top: 0;bottom: 0;left: 50%;z-index: -1;}#sk-container-id-4 div.sk-parallel-item {display: flex;flex-direction: column;z-index: 1;position: relative;background-color: white;}#sk-container-id-4 div.sk-parallel-item:first-child::after {align-self: flex-end;width: 50%;}#sk-container-id-4 div.sk-parallel-item:last-child::after {align-self: flex-start;width: 50%;}#sk-container-id-4 div.sk-parallel-item:only-child::after {width: 0;}#sk-container-id-4 div.sk-dashed-wrapped {border: 1px dashed gray;margin: 0 0.4em 0.5em 0.4em;box-sizing: border-box;padding-bottom: 0.4em;background-color: white;}#sk-container-id-4 div.sk-label label {font-family: monospace;font-weight: bold;display: inline-block;line-height: 1.2em;}#sk-container-id-4 div.sk-label-container {text-align: center;}#sk-container-id-4 div.sk-container {/* jupyter's `normalize.less` sets `[hidden] { display: none; }` but bootstrap.min.css set `[hidden] { display: none !important; }` so we also need the `!important` here to be able to override the default hidden behavior on the sphinx rendered scikit-learn.org. See: https://github.com/scikit-learn/scikit-learn/issues/21755 */display: inline-block !important;position: relative;}#sk-container-id-4 div.sk-text-repr-fallback {display: none;}</style><div id=\"sk-container-id-4\" class=\"sk-top-container\"><div class=\"sk-text-repr-fallback\"><pre>XGBClassifier(base_score=None, booster=None, callbacks=None,\n",
       "              colsample_bylevel=None, colsample_bynode=None,\n",
       "              colsample_bytree=None, early_stopping_rounds=None,\n",
       "              enable_categorical=False, eval_metric=None, feature_types=None,\n",
       "              gamma=None, gpu_id=None, grow_policy=None, importance_type=None,\n",
       "              interaction_constraints=None, learning_rate=0.05, max_bin=None,\n",
       "              max_cat_threshold=None, max_cat_to_onehot=None,\n",
       "              max_delta_step=None, max_depth=6, max_leaves=None,\n",
       "              min_child_weight=None, missing=nan, monotone_constraints=None,\n",
       "              n_estimators=300, n_jobs=None, num_parallel_tree=None,\n",
       "              objective=&#x27;multi:softprob&#x27;, predictor=None, ...)</pre><b>In a Jupyter environment, please rerun this cell to show the HTML representation or trust the notebook. <br />On GitHub, the HTML representation is unable to render, please try loading this page with nbviewer.org.</b></div><div class=\"sk-container\" hidden><div class=\"sk-item\"><div class=\"sk-estimator sk-toggleable\"><input class=\"sk-toggleable__control sk-hidden--visually\" id=\"sk-estimator-id-4\" type=\"checkbox\" checked><label for=\"sk-estimator-id-4\" class=\"sk-toggleable__label sk-toggleable__label-arrow\">XGBClassifier</label><div class=\"sk-toggleable__content\"><pre>XGBClassifier(base_score=None, booster=None, callbacks=None,\n",
       "              colsample_bylevel=None, colsample_bynode=None,\n",
       "              colsample_bytree=None, early_stopping_rounds=None,\n",
       "              enable_categorical=False, eval_metric=None, feature_types=None,\n",
       "              gamma=None, gpu_id=None, grow_policy=None, importance_type=None,\n",
       "              interaction_constraints=None, learning_rate=0.05, max_bin=None,\n",
       "              max_cat_threshold=None, max_cat_to_onehot=None,\n",
       "              max_delta_step=None, max_depth=6, max_leaves=None,\n",
       "              min_child_weight=None, missing=nan, monotone_constraints=None,\n",
       "              n_estimators=300, n_jobs=None, num_parallel_tree=None,\n",
       "              objective=&#x27;multi:softprob&#x27;, predictor=None, ...)</pre></div></div></div></div></div>"
      ],
      "text/plain": [
       "XGBClassifier(base_score=None, booster=None, callbacks=None,\n",
       "              colsample_bylevel=None, colsample_bynode=None,\n",
       "              colsample_bytree=None, early_stopping_rounds=None,\n",
       "              enable_categorical=False, eval_metric=None, feature_types=None,\n",
       "              gamma=None, gpu_id=None, grow_policy=None, importance_type=None,\n",
       "              interaction_constraints=None, learning_rate=0.05, max_bin=None,\n",
       "              max_cat_threshold=None, max_cat_to_onehot=None,\n",
       "              max_delta_step=None, max_depth=6, max_leaves=None,\n",
       "              min_child_weight=None, missing=nan, monotone_constraints=None,\n",
       "              n_estimators=300, n_jobs=None, num_parallel_tree=None,\n",
       "              objective='multi:softprob', predictor=None, ...)"
      ]
     },
     "execution_count": 53,
     "metadata": {},
     "output_type": "execute_result"
    }
   ],
   "source": [
    "\n",
    "\n",
    "# param_grid = {\n",
    "#     'max_depth': [2, 4, 6],\n",
    "#     'learning_rate': [0.01, 0.05],\n",
    "#     'n_estimators': [200, 300]\n",
    "# }\n",
    "\n",
    "# grid_search = GridSearchCV(estimator=xgb.XGBClassifier(), param_grid=param_grid,scoring='accuracy', cv=3,n_jobs=-1)\n",
    "# grid_search.fit(X_train, y_train)\n",
    "\n",
    "# best_params = grid_search.best_params_\n",
    "# print(\"Best Hyperparameters:\", best_params)\n",
    "\n",
    "# # Re-initialize and re-train the model with the best parameters\n",
    "# best_model = xgb.XGBClassifier(**best_params)\n",
    "# best_model.fit(X_train, y_train)\n"
   ]
  },
  {
   "cell_type": "code",
   "execution_count": 54,
   "metadata": {},
   "outputs": [],
   "source": [
    "from sklearn.metrics import classification_report"
   ]
  },
  {
   "cell_type": "code",
   "execution_count": 56,
   "metadata": {},
   "outputs": [],
   "source": [
    "best_model = xgb.XGBClassifier(base_score=None, booster=None, callbacks=None,\n",
    "              colsample_bylevel=None, colsample_bynode=None,\n",
    "              colsample_bytree=None, early_stopping_rounds=None,\n",
    "              enable_categorical=False, eval_metric=None, feature_types=None,\n",
    "              gamma=None, gpu_id=None, grow_policy=None, importance_type=None,\n",
    "              interaction_constraints=None, learning_rate=0.05, max_bin=None,\n",
    "              max_cat_threshold=None, max_cat_to_onehot=None,\n",
    "              max_delta_step=None, max_depth=6, max_leaves=None,\n",
    "              min_child_weight=None, monotone_constraints=None,\n",
    "              n_estimators=300, n_jobs=None, num_parallel_tree=None,\n",
    "              objective='multi:softprob', predictor=None)"
   ]
  },
  {
   "cell_type": "code",
   "execution_count": 55,
   "metadata": {},
   "outputs": [
    {
     "name": "stdout",
     "output_type": "stream",
     "text": [
      "Accuracy: 0.7112\n",
      "Classification Report:\n",
      "              precision    recall  f1-score   support\n",
      "\n",
      "         0.0       0.75      0.74      0.74      3788\n",
      "         1.0       0.70      0.55      0.61      3703\n",
      "         2.0       0.69      0.84      0.76      3759\n",
      "\n",
      "    accuracy                           0.71     11250\n",
      "   macro avg       0.71      0.71      0.71     11250\n",
      "weighted avg       0.71      0.71      0.71     11250\n",
      "\n"
     ]
    }
   ],
   "source": [
    "y_pred = best_model.predict(X_test)\n",
    "accuracy = accuracy_score(y_test, y_pred)\n",
    "print(\"Accuracy:\", accuracy)\n",
    "\n",
    "print(\"Classification Report:\")\n",
    "print(classification_report(y_test, y_pred))\n"
   ]
  },
  {
   "cell_type": "markdown",
   "metadata": {},
   "source": [
    "- We see that the base model has performed better accuracy wise compared to when the hyperparameters are tuned.\n",
    "- We also notice that the base models performance increased as the number of samples increased hence we can try oversampling the data and check if it further improves our model performance"
   ]
  },
  {
   "cell_type": "markdown",
   "metadata": {},
   "source": [
    "### SMOTE"
   ]
  },
  {
   "cell_type": "code",
   "execution_count": 57,
   "metadata": {},
   "outputs": [],
   "source": [
    "from imblearn.over_sampling import SMOTE"
   ]
  },
  {
   "cell_type": "code",
   "execution_count": 58,
   "metadata": {},
   "outputs": [],
   "source": [
    "X = xgdf.drop(columns=['Credit_Score','Amount_invested_monthly'],axis=1)\n",
    "y = xgdf['Credit_Score']\n",
    "X_train,X_test,y_train,y_test = train_test_split(X,y,test_size=0.25,random_state=42)"
   ]
  },
  {
   "cell_type": "code",
   "execution_count": 59,
   "metadata": {},
   "outputs": [],
   "source": [
    "smote = SMOTE(sampling_strategy='auto', random_state=42)\n",
    "X_resampled, y_resampled = smote.fit_resample(X_train, y_train)\n"
   ]
  },
  {
   "cell_type": "code",
   "execution_count": 70,
   "metadata": {},
   "outputs": [
    {
     "data": {
      "text/plain": [
       "array([[ 3.90000000e+01,  1.00000000e+01,  7.40170800e+04, ...,\n",
       "         1.59458167e+03,  2.22913892e+01,  1.00000000e+00],\n",
       "       [ 2.10000000e+01,  3.00000000e+00,  1.86008800e+04, ...,\n",
       "         3.52208056e+03, -2.86977785e+01,  0.00000000e+00],\n",
       "       [ 2.60000000e+01,  1.20000000e+01,  5.08074400e+04, ...,\n",
       "        -2.22497449e+02, -6.47134170e+00,  1.00000000e+00],\n",
       "       ...,\n",
       "       [ 4.10000000e+01,  9.00000000e+00,  2.31286528e+04, ...,\n",
       "        -9.64689374e+02,  1.21212072e+01,  2.00000000e+00],\n",
       "       [ 4.10000000e+01,  2.00000000e+00,  1.58483480e+05, ...,\n",
       "         6.70039175e+01,  1.54661684e+00,  2.00000000e+00],\n",
       "       [ 5.40000000e+01,  7.00000000e+00,  1.29231064e+07, ...,\n",
       "         2.22721163e+03, -3.21661128e+00,  2.00000000e+00]])"
      ]
     },
     "execution_count": 70,
     "metadata": {},
     "output_type": "execute_result"
    }
   ],
   "source": [
    "dataset = np.concatenate((X_resampled, y_resampled.values.reshape(-1, 1)), axis=1)\n",
    "dataset"
   ]
  },
  {
   "cell_type": "code",
   "execution_count": 60,
   "metadata": {},
   "outputs": [
    {
     "data": {
      "text/html": [
       "<div>\n",
       "<style scoped>\n",
       "    .dataframe tbody tr th:only-of-type {\n",
       "        vertical-align: middle;\n",
       "    }\n",
       "\n",
       "    .dataframe tbody tr th {\n",
       "        vertical-align: top;\n",
       "    }\n",
       "\n",
       "    .dataframe thead th {\n",
       "        text-align: right;\n",
       "    }\n",
       "</style>\n",
       "<table border=\"1\" class=\"dataframe\">\n",
       "  <thead>\n",
       "    <tr style=\"text-align: right;\">\n",
       "      <th></th>\n",
       "      <th>Age</th>\n",
       "      <th>Occupation</th>\n",
       "      <th>Annual_Income</th>\n",
       "      <th>Num_Bank_Accounts</th>\n",
       "      <th>Interest_Rate</th>\n",
       "      <th>Num_of_Loan</th>\n",
       "      <th>Num_of_Delayed_Payment</th>\n",
       "      <th>Num_Credit_Inquiries</th>\n",
       "      <th>Credit_Mix</th>\n",
       "      <th>Credit_Utilization_Ratio</th>\n",
       "      <th>Credit_History_Age</th>\n",
       "      <th>Payment_of_Min_Amount</th>\n",
       "      <th>Total_EMI_per_month</th>\n",
       "      <th>Payment_Behaviour</th>\n",
       "      <th>Monthly_Balance</th>\n",
       "      <th>pca_component_1</th>\n",
       "      <th>pca_component_2</th>\n",
       "    </tr>\n",
       "  </thead>\n",
       "  <tbody>\n",
       "    <tr>\n",
       "      <th>0</th>\n",
       "      <td>39</td>\n",
       "      <td>10</td>\n",
       "      <td>7.401708e+04</td>\n",
       "      <td>6</td>\n",
       "      <td>20</td>\n",
       "      <td>6</td>\n",
       "      <td>25.000000</td>\n",
       "      <td>2</td>\n",
       "      <td>0.000000</td>\n",
       "      <td>30.387873</td>\n",
       "      <td>2.916700</td>\n",
       "      <td>1</td>\n",
       "      <td>218.999711</td>\n",
       "      <td>1</td>\n",
       "      <td>513.017233</td>\n",
       "      <td>1594.581673</td>\n",
       "      <td>22.291389</td>\n",
       "    </tr>\n",
       "    <tr>\n",
       "      <th>1</th>\n",
       "      <td>21</td>\n",
       "      <td>3</td>\n",
       "      <td>1.860088e+04</td>\n",
       "      <td>5</td>\n",
       "      <td>5</td>\n",
       "      <td>6</td>\n",
       "      <td>16.000000</td>\n",
       "      <td>2</td>\n",
       "      <td>1.000000</td>\n",
       "      <td>31.113191</td>\n",
       "      <td>14.500000</td>\n",
       "      <td>1</td>\n",
       "      <td>73.889782</td>\n",
       "      <td>5</td>\n",
       "      <td>243.519140</td>\n",
       "      <td>3522.080563</td>\n",
       "      <td>-28.697778</td>\n",
       "    </tr>\n",
       "    <tr>\n",
       "      <th>2</th>\n",
       "      <td>26</td>\n",
       "      <td>12</td>\n",
       "      <td>5.080744e+04</td>\n",
       "      <td>8</td>\n",
       "      <td>11</td>\n",
       "      <td>4</td>\n",
       "      <td>8.000000</td>\n",
       "      <td>1</td>\n",
       "      <td>1.000000</td>\n",
       "      <td>30.058853</td>\n",
       "      <td>22.500000</td>\n",
       "      <td>1</td>\n",
       "      <td>88.759919</td>\n",
       "      <td>2</td>\n",
       "      <td>427.050926</td>\n",
       "      <td>-222.497449</td>\n",
       "      <td>-6.471342</td>\n",
       "    </tr>\n",
       "    <tr>\n",
       "      <th>3</th>\n",
       "      <td>40</td>\n",
       "      <td>10</td>\n",
       "      <td>3.564360e+04</td>\n",
       "      <td>1662</td>\n",
       "      <td>9</td>\n",
       "      <td>4</td>\n",
       "      <td>22.000000</td>\n",
       "      <td>2</td>\n",
       "      <td>1.000000</td>\n",
       "      <td>40.464755</td>\n",
       "      <td>5.916700</td>\n",
       "      <td>1</td>\n",
       "      <td>60.039540</td>\n",
       "      <td>5</td>\n",
       "      <td>422.146685</td>\n",
       "      <td>-1225.442660</td>\n",
       "      <td>-0.011992</td>\n",
       "    </tr>\n",
       "    <tr>\n",
       "      <th>4</th>\n",
       "      <td>50</td>\n",
       "      <td>3</td>\n",
       "      <td>2.341476e+04</td>\n",
       "      <td>3</td>\n",
       "      <td>7</td>\n",
       "      <td>2</td>\n",
       "      <td>20.000000</td>\n",
       "      <td>-2</td>\n",
       "      <td>1.000000</td>\n",
       "      <td>30.021333</td>\n",
       "      <td>19.416700</td>\n",
       "      <td>1</td>\n",
       "      <td>28.831610</td>\n",
       "      <td>3</td>\n",
       "      <td>379.715078</td>\n",
       "      <td>497.865143</td>\n",
       "      <td>-1.606460</td>\n",
       "    </tr>\n",
       "    <tr>\n",
       "      <th>...</th>\n",
       "      <td>...</td>\n",
       "      <td>...</td>\n",
       "      <td>...</td>\n",
       "      <td>...</td>\n",
       "      <td>...</td>\n",
       "      <td>...</td>\n",
       "      <td>...</td>\n",
       "      <td>...</td>\n",
       "      <td>...</td>\n",
       "      <td>...</td>\n",
       "      <td>...</td>\n",
       "      <td>...</td>\n",
       "      <td>...</td>\n",
       "      <td>...</td>\n",
       "      <td>...</td>\n",
       "      <td>...</td>\n",
       "      <td>...</td>\n",
       "    </tr>\n",
       "    <tr>\n",
       "      <th>116314</th>\n",
       "      <td>44</td>\n",
       "      <td>1</td>\n",
       "      <td>2.989470e+04</td>\n",
       "      <td>4</td>\n",
       "      <td>19</td>\n",
       "      <td>-16</td>\n",
       "      <td>13.447052</td>\n",
       "      <td>2</td>\n",
       "      <td>1.000000</td>\n",
       "      <td>26.242483</td>\n",
       "      <td>2.998984</td>\n",
       "      <td>1</td>\n",
       "      <td>95.870089</td>\n",
       "      <td>4</td>\n",
       "      <td>330.719341</td>\n",
       "      <td>-83.721223</td>\n",
       "      <td>-12.527855</td>\n",
       "    </tr>\n",
       "    <tr>\n",
       "      <th>116315</th>\n",
       "      <td>27</td>\n",
       "      <td>4</td>\n",
       "      <td>1.412841e+04</td>\n",
       "      <td>6</td>\n",
       "      <td>29</td>\n",
       "      <td>9</td>\n",
       "      <td>19.601536</td>\n",
       "      <td>2</td>\n",
       "      <td>0.300768</td>\n",
       "      <td>36.477287</td>\n",
       "      <td>3.935037</td>\n",
       "      <td>1</td>\n",
       "      <td>93.956977</td>\n",
       "      <td>4</td>\n",
       "      <td>247.216568</td>\n",
       "      <td>-418.069721</td>\n",
       "      <td>-12.615255</td>\n",
       "    </tr>\n",
       "    <tr>\n",
       "      <th>116316</th>\n",
       "      <td>41</td>\n",
       "      <td>9</td>\n",
       "      <td>2.312865e+04</td>\n",
       "      <td>4</td>\n",
       "      <td>7</td>\n",
       "      <td>1</td>\n",
       "      <td>14.000000</td>\n",
       "      <td>1</td>\n",
       "      <td>1.991884</td>\n",
       "      <td>30.259040</td>\n",
       "      <td>15.632671</td>\n",
       "      <td>0</td>\n",
       "      <td>28.442818</td>\n",
       "      <td>5</td>\n",
       "      <td>361.621469</td>\n",
       "      <td>-964.689374</td>\n",
       "      <td>12.121207</td>\n",
       "    </tr>\n",
       "    <tr>\n",
       "      <th>116317</th>\n",
       "      <td>41</td>\n",
       "      <td>2</td>\n",
       "      <td>1.584835e+05</td>\n",
       "      <td>2</td>\n",
       "      <td>6</td>\n",
       "      <td>3</td>\n",
       "      <td>2.814600</td>\n",
       "      <td>1</td>\n",
       "      <td>2.000000</td>\n",
       "      <td>32.066870</td>\n",
       "      <td>28.036950</td>\n",
       "      <td>0</td>\n",
       "      <td>347.535460</td>\n",
       "      <td>4</td>\n",
       "      <td>452.577762</td>\n",
       "      <td>67.003918</td>\n",
       "      <td>1.546617</td>\n",
       "    </tr>\n",
       "    <tr>\n",
       "      <th>116318</th>\n",
       "      <td>54</td>\n",
       "      <td>7</td>\n",
       "      <td>1.292311e+07</td>\n",
       "      <td>1</td>\n",
       "      <td>8</td>\n",
       "      <td>1</td>\n",
       "      <td>15.265644</td>\n",
       "      <td>1</td>\n",
       "      <td>1.210941</td>\n",
       "      <td>24.669110</td>\n",
       "      <td>31.176440</td>\n",
       "      <td>0</td>\n",
       "      <td>74.244183</td>\n",
       "      <td>5</td>\n",
       "      <td>366.913301</td>\n",
       "      <td>2227.211630</td>\n",
       "      <td>-3.216611</td>\n",
       "    </tr>\n",
       "  </tbody>\n",
       "</table>\n",
       "<p>116319 rows × 17 columns</p>\n",
       "</div>"
      ],
      "text/plain": [
       "        Age  Occupation  Annual_Income  Num_Bank_Accounts  Interest_Rate  \\\n",
       "0        39          10   7.401708e+04                  6             20   \n",
       "1        21           3   1.860088e+04                  5              5   \n",
       "2        26          12   5.080744e+04                  8             11   \n",
       "3        40          10   3.564360e+04               1662              9   \n",
       "4        50           3   2.341476e+04                  3              7   \n",
       "...     ...         ...            ...                ...            ...   \n",
       "116314   44           1   2.989470e+04                  4             19   \n",
       "116315   27           4   1.412841e+04                  6             29   \n",
       "116316   41           9   2.312865e+04                  4              7   \n",
       "116317   41           2   1.584835e+05                  2              6   \n",
       "116318   54           7   1.292311e+07                  1              8   \n",
       "\n",
       "        Num_of_Loan  Num_of_Delayed_Payment  Num_Credit_Inquiries  Credit_Mix  \\\n",
       "0                 6               25.000000                     2    0.000000   \n",
       "1                 6               16.000000                     2    1.000000   \n",
       "2                 4                8.000000                     1    1.000000   \n",
       "3                 4               22.000000                     2    1.000000   \n",
       "4                 2               20.000000                    -2    1.000000   \n",
       "...             ...                     ...                   ...         ...   \n",
       "116314          -16               13.447052                     2    1.000000   \n",
       "116315            9               19.601536                     2    0.300768   \n",
       "116316            1               14.000000                     1    1.991884   \n",
       "116317            3                2.814600                     1    2.000000   \n",
       "116318            1               15.265644                     1    1.210941   \n",
       "\n",
       "        Credit_Utilization_Ratio  Credit_History_Age  Payment_of_Min_Amount  \\\n",
       "0                      30.387873            2.916700                      1   \n",
       "1                      31.113191           14.500000                      1   \n",
       "2                      30.058853           22.500000                      1   \n",
       "3                      40.464755            5.916700                      1   \n",
       "4                      30.021333           19.416700                      1   \n",
       "...                          ...                 ...                    ...   \n",
       "116314                 26.242483            2.998984                      1   \n",
       "116315                 36.477287            3.935037                      1   \n",
       "116316                 30.259040           15.632671                      0   \n",
       "116317                 32.066870           28.036950                      0   \n",
       "116318                 24.669110           31.176440                      0   \n",
       "\n",
       "        Total_EMI_per_month  Payment_Behaviour  Monthly_Balance  \\\n",
       "0                218.999711                  1       513.017233   \n",
       "1                 73.889782                  5       243.519140   \n",
       "2                 88.759919                  2       427.050926   \n",
       "3                 60.039540                  5       422.146685   \n",
       "4                 28.831610                  3       379.715078   \n",
       "...                     ...                ...              ...   \n",
       "116314            95.870089                  4       330.719341   \n",
       "116315            93.956977                  4       247.216568   \n",
       "116316            28.442818                  5       361.621469   \n",
       "116317           347.535460                  4       452.577762   \n",
       "116318            74.244183                  5       366.913301   \n",
       "\n",
       "        pca_component_1  pca_component_2  \n",
       "0           1594.581673        22.291389  \n",
       "1           3522.080563       -28.697778  \n",
       "2           -222.497449        -6.471342  \n",
       "3          -1225.442660        -0.011992  \n",
       "4            497.865143        -1.606460  \n",
       "...                 ...              ...  \n",
       "116314       -83.721223       -12.527855  \n",
       "116315      -418.069721       -12.615255  \n",
       "116316      -964.689374        12.121207  \n",
       "116317        67.003918         1.546617  \n",
       "116318      2227.211630        -3.216611  \n",
       "\n",
       "[116319 rows x 17 columns]"
      ]
     },
     "execution_count": 60,
     "metadata": {},
     "output_type": "execute_result"
    }
   ],
   "source": [
    "X_resampled"
   ]
  },
  {
   "cell_type": "code",
   "execution_count": 71,
   "metadata": {},
   "outputs": [],
   "source": [
    "feature_columns = []\n",
    "for column_name in X_resampled.columns:\n",
    "    feature_columns.append(column_name)\n",
    "target_column = 'Credit_Score'"
   ]
  },
  {
   "cell_type": "code",
   "execution_count": 72,
   "metadata": {},
   "outputs": [],
   "source": [
    "df = pd.DataFrame(dataset, columns=feature_columns + [target_column])"
   ]
  },
  {
   "cell_type": "code",
   "execution_count": 74,
   "metadata": {},
   "outputs": [
    {
     "data": {
      "text/html": [
       "<div>\n",
       "<style scoped>\n",
       "    .dataframe tbody tr th:only-of-type {\n",
       "        vertical-align: middle;\n",
       "    }\n",
       "\n",
       "    .dataframe tbody tr th {\n",
       "        vertical-align: top;\n",
       "    }\n",
       "\n",
       "    .dataframe thead th {\n",
       "        text-align: right;\n",
       "    }\n",
       "</style>\n",
       "<table border=\"1\" class=\"dataframe\">\n",
       "  <thead>\n",
       "    <tr style=\"text-align: right;\">\n",
       "      <th></th>\n",
       "      <th>Age</th>\n",
       "      <th>Occupation</th>\n",
       "      <th>Annual_Income</th>\n",
       "      <th>Num_Bank_Accounts</th>\n",
       "      <th>Interest_Rate</th>\n",
       "      <th>Num_of_Loan</th>\n",
       "      <th>Num_of_Delayed_Payment</th>\n",
       "      <th>Num_Credit_Inquiries</th>\n",
       "      <th>Credit_Mix</th>\n",
       "      <th>Credit_Utilization_Ratio</th>\n",
       "      <th>Credit_History_Age</th>\n",
       "      <th>Payment_of_Min_Amount</th>\n",
       "      <th>Total_EMI_per_month</th>\n",
       "      <th>Payment_Behaviour</th>\n",
       "      <th>Monthly_Balance</th>\n",
       "      <th>pca_component_1</th>\n",
       "      <th>pca_component_2</th>\n",
       "      <th>Credit_Score</th>\n",
       "    </tr>\n",
       "  </thead>\n",
       "  <tbody>\n",
       "    <tr>\n",
       "      <th>0</th>\n",
       "      <td>39.0</td>\n",
       "      <td>10.0</td>\n",
       "      <td>7.401708e+04</td>\n",
       "      <td>6.0</td>\n",
       "      <td>20.0</td>\n",
       "      <td>6.0</td>\n",
       "      <td>25.000000</td>\n",
       "      <td>2.0</td>\n",
       "      <td>0.000000</td>\n",
       "      <td>30.387873</td>\n",
       "      <td>2.916700</td>\n",
       "      <td>1.0</td>\n",
       "      <td>218.999711</td>\n",
       "      <td>1.0</td>\n",
       "      <td>513.017233</td>\n",
       "      <td>1594.581673</td>\n",
       "      <td>22.291389</td>\n",
       "      <td>1.0</td>\n",
       "    </tr>\n",
       "    <tr>\n",
       "      <th>1</th>\n",
       "      <td>21.0</td>\n",
       "      <td>3.0</td>\n",
       "      <td>1.860088e+04</td>\n",
       "      <td>5.0</td>\n",
       "      <td>5.0</td>\n",
       "      <td>6.0</td>\n",
       "      <td>16.000000</td>\n",
       "      <td>2.0</td>\n",
       "      <td>1.000000</td>\n",
       "      <td>31.113191</td>\n",
       "      <td>14.500000</td>\n",
       "      <td>1.0</td>\n",
       "      <td>73.889782</td>\n",
       "      <td>5.0</td>\n",
       "      <td>243.519140</td>\n",
       "      <td>3522.080563</td>\n",
       "      <td>-28.697778</td>\n",
       "      <td>0.0</td>\n",
       "    </tr>\n",
       "    <tr>\n",
       "      <th>2</th>\n",
       "      <td>26.0</td>\n",
       "      <td>12.0</td>\n",
       "      <td>5.080744e+04</td>\n",
       "      <td>8.0</td>\n",
       "      <td>11.0</td>\n",
       "      <td>4.0</td>\n",
       "      <td>8.000000</td>\n",
       "      <td>1.0</td>\n",
       "      <td>1.000000</td>\n",
       "      <td>30.058853</td>\n",
       "      <td>22.500000</td>\n",
       "      <td>1.0</td>\n",
       "      <td>88.759919</td>\n",
       "      <td>2.0</td>\n",
       "      <td>427.050926</td>\n",
       "      <td>-222.497449</td>\n",
       "      <td>-6.471342</td>\n",
       "      <td>1.0</td>\n",
       "    </tr>\n",
       "    <tr>\n",
       "      <th>3</th>\n",
       "      <td>40.0</td>\n",
       "      <td>10.0</td>\n",
       "      <td>3.564360e+04</td>\n",
       "      <td>1662.0</td>\n",
       "      <td>9.0</td>\n",
       "      <td>4.0</td>\n",
       "      <td>22.000000</td>\n",
       "      <td>2.0</td>\n",
       "      <td>1.000000</td>\n",
       "      <td>40.464755</td>\n",
       "      <td>5.916700</td>\n",
       "      <td>1.0</td>\n",
       "      <td>60.039540</td>\n",
       "      <td>5.0</td>\n",
       "      <td>422.146685</td>\n",
       "      <td>-1225.442660</td>\n",
       "      <td>-0.011992</td>\n",
       "      <td>1.0</td>\n",
       "    </tr>\n",
       "    <tr>\n",
       "      <th>4</th>\n",
       "      <td>50.0</td>\n",
       "      <td>3.0</td>\n",
       "      <td>2.341476e+04</td>\n",
       "      <td>3.0</td>\n",
       "      <td>7.0</td>\n",
       "      <td>2.0</td>\n",
       "      <td>20.000000</td>\n",
       "      <td>-2.0</td>\n",
       "      <td>1.000000</td>\n",
       "      <td>30.021333</td>\n",
       "      <td>19.416700</td>\n",
       "      <td>1.0</td>\n",
       "      <td>28.831610</td>\n",
       "      <td>3.0</td>\n",
       "      <td>379.715078</td>\n",
       "      <td>497.865143</td>\n",
       "      <td>-1.606460</td>\n",
       "      <td>1.0</td>\n",
       "    </tr>\n",
       "    <tr>\n",
       "      <th>...</th>\n",
       "      <td>...</td>\n",
       "      <td>...</td>\n",
       "      <td>...</td>\n",
       "      <td>...</td>\n",
       "      <td>...</td>\n",
       "      <td>...</td>\n",
       "      <td>...</td>\n",
       "      <td>...</td>\n",
       "      <td>...</td>\n",
       "      <td>...</td>\n",
       "      <td>...</td>\n",
       "      <td>...</td>\n",
       "      <td>...</td>\n",
       "      <td>...</td>\n",
       "      <td>...</td>\n",
       "      <td>...</td>\n",
       "      <td>...</td>\n",
       "      <td>...</td>\n",
       "    </tr>\n",
       "    <tr>\n",
       "      <th>116314</th>\n",
       "      <td>44.0</td>\n",
       "      <td>1.0</td>\n",
       "      <td>2.989470e+04</td>\n",
       "      <td>4.0</td>\n",
       "      <td>19.0</td>\n",
       "      <td>-16.0</td>\n",
       "      <td>13.447052</td>\n",
       "      <td>2.0</td>\n",
       "      <td>1.000000</td>\n",
       "      <td>26.242483</td>\n",
       "      <td>2.998984</td>\n",
       "      <td>1.0</td>\n",
       "      <td>95.870089</td>\n",
       "      <td>4.0</td>\n",
       "      <td>330.719341</td>\n",
       "      <td>-83.721223</td>\n",
       "      <td>-12.527855</td>\n",
       "      <td>2.0</td>\n",
       "    </tr>\n",
       "    <tr>\n",
       "      <th>116315</th>\n",
       "      <td>27.0</td>\n",
       "      <td>4.0</td>\n",
       "      <td>1.412841e+04</td>\n",
       "      <td>6.0</td>\n",
       "      <td>29.0</td>\n",
       "      <td>9.0</td>\n",
       "      <td>19.601536</td>\n",
       "      <td>2.0</td>\n",
       "      <td>0.300768</td>\n",
       "      <td>36.477287</td>\n",
       "      <td>3.935037</td>\n",
       "      <td>1.0</td>\n",
       "      <td>93.956977</td>\n",
       "      <td>4.0</td>\n",
       "      <td>247.216568</td>\n",
       "      <td>-418.069721</td>\n",
       "      <td>-12.615255</td>\n",
       "      <td>2.0</td>\n",
       "    </tr>\n",
       "    <tr>\n",
       "      <th>116316</th>\n",
       "      <td>41.0</td>\n",
       "      <td>9.0</td>\n",
       "      <td>2.312865e+04</td>\n",
       "      <td>4.0</td>\n",
       "      <td>7.0</td>\n",
       "      <td>1.0</td>\n",
       "      <td>14.000000</td>\n",
       "      <td>1.0</td>\n",
       "      <td>1.991884</td>\n",
       "      <td>30.259040</td>\n",
       "      <td>15.632671</td>\n",
       "      <td>0.0</td>\n",
       "      <td>28.442818</td>\n",
       "      <td>5.0</td>\n",
       "      <td>361.621469</td>\n",
       "      <td>-964.689374</td>\n",
       "      <td>12.121207</td>\n",
       "      <td>2.0</td>\n",
       "    </tr>\n",
       "    <tr>\n",
       "      <th>116317</th>\n",
       "      <td>41.0</td>\n",
       "      <td>2.0</td>\n",
       "      <td>1.584835e+05</td>\n",
       "      <td>2.0</td>\n",
       "      <td>6.0</td>\n",
       "      <td>3.0</td>\n",
       "      <td>2.814600</td>\n",
       "      <td>1.0</td>\n",
       "      <td>2.000000</td>\n",
       "      <td>32.066870</td>\n",
       "      <td>28.036950</td>\n",
       "      <td>0.0</td>\n",
       "      <td>347.535460</td>\n",
       "      <td>4.0</td>\n",
       "      <td>452.577762</td>\n",
       "      <td>67.003918</td>\n",
       "      <td>1.546617</td>\n",
       "      <td>2.0</td>\n",
       "    </tr>\n",
       "    <tr>\n",
       "      <th>116318</th>\n",
       "      <td>54.0</td>\n",
       "      <td>7.0</td>\n",
       "      <td>1.292311e+07</td>\n",
       "      <td>1.0</td>\n",
       "      <td>8.0</td>\n",
       "      <td>1.0</td>\n",
       "      <td>15.265644</td>\n",
       "      <td>1.0</td>\n",
       "      <td>1.210941</td>\n",
       "      <td>24.669110</td>\n",
       "      <td>31.176440</td>\n",
       "      <td>0.0</td>\n",
       "      <td>74.244183</td>\n",
       "      <td>5.0</td>\n",
       "      <td>366.913301</td>\n",
       "      <td>2227.211630</td>\n",
       "      <td>-3.216611</td>\n",
       "      <td>2.0</td>\n",
       "    </tr>\n",
       "  </tbody>\n",
       "</table>\n",
       "<p>116319 rows × 18 columns</p>\n",
       "</div>"
      ],
      "text/plain": [
       "         Age  Occupation  Annual_Income  Num_Bank_Accounts  Interest_Rate  \\\n",
       "0       39.0        10.0   7.401708e+04                6.0           20.0   \n",
       "1       21.0         3.0   1.860088e+04                5.0            5.0   \n",
       "2       26.0        12.0   5.080744e+04                8.0           11.0   \n",
       "3       40.0        10.0   3.564360e+04             1662.0            9.0   \n",
       "4       50.0         3.0   2.341476e+04                3.0            7.0   \n",
       "...      ...         ...            ...                ...            ...   \n",
       "116314  44.0         1.0   2.989470e+04                4.0           19.0   \n",
       "116315  27.0         4.0   1.412841e+04                6.0           29.0   \n",
       "116316  41.0         9.0   2.312865e+04                4.0            7.0   \n",
       "116317  41.0         2.0   1.584835e+05                2.0            6.0   \n",
       "116318  54.0         7.0   1.292311e+07                1.0            8.0   \n",
       "\n",
       "        Num_of_Loan  Num_of_Delayed_Payment  Num_Credit_Inquiries  Credit_Mix  \\\n",
       "0               6.0               25.000000                   2.0    0.000000   \n",
       "1               6.0               16.000000                   2.0    1.000000   \n",
       "2               4.0                8.000000                   1.0    1.000000   \n",
       "3               4.0               22.000000                   2.0    1.000000   \n",
       "4               2.0               20.000000                  -2.0    1.000000   \n",
       "...             ...                     ...                   ...         ...   \n",
       "116314        -16.0               13.447052                   2.0    1.000000   \n",
       "116315          9.0               19.601536                   2.0    0.300768   \n",
       "116316          1.0               14.000000                   1.0    1.991884   \n",
       "116317          3.0                2.814600                   1.0    2.000000   \n",
       "116318          1.0               15.265644                   1.0    1.210941   \n",
       "\n",
       "        Credit_Utilization_Ratio  Credit_History_Age  Payment_of_Min_Amount  \\\n",
       "0                      30.387873            2.916700                    1.0   \n",
       "1                      31.113191           14.500000                    1.0   \n",
       "2                      30.058853           22.500000                    1.0   \n",
       "3                      40.464755            5.916700                    1.0   \n",
       "4                      30.021333           19.416700                    1.0   \n",
       "...                          ...                 ...                    ...   \n",
       "116314                 26.242483            2.998984                    1.0   \n",
       "116315                 36.477287            3.935037                    1.0   \n",
       "116316                 30.259040           15.632671                    0.0   \n",
       "116317                 32.066870           28.036950                    0.0   \n",
       "116318                 24.669110           31.176440                    0.0   \n",
       "\n",
       "        Total_EMI_per_month  Payment_Behaviour  Monthly_Balance  \\\n",
       "0                218.999711                1.0       513.017233   \n",
       "1                 73.889782                5.0       243.519140   \n",
       "2                 88.759919                2.0       427.050926   \n",
       "3                 60.039540                5.0       422.146685   \n",
       "4                 28.831610                3.0       379.715078   \n",
       "...                     ...                ...              ...   \n",
       "116314            95.870089                4.0       330.719341   \n",
       "116315            93.956977                4.0       247.216568   \n",
       "116316            28.442818                5.0       361.621469   \n",
       "116317           347.535460                4.0       452.577762   \n",
       "116318            74.244183                5.0       366.913301   \n",
       "\n",
       "        pca_component_1  pca_component_2  Credit_Score  \n",
       "0           1594.581673        22.291389           1.0  \n",
       "1           3522.080563       -28.697778           0.0  \n",
       "2           -222.497449        -6.471342           1.0  \n",
       "3          -1225.442660        -0.011992           1.0  \n",
       "4            497.865143        -1.606460           1.0  \n",
       "...                 ...              ...           ...  \n",
       "116314       -83.721223       -12.527855           2.0  \n",
       "116315      -418.069721       -12.615255           2.0  \n",
       "116316      -964.689374        12.121207           2.0  \n",
       "116317        67.003918         1.546617           2.0  \n",
       "116318      2227.211630        -3.216611           2.0  \n",
       "\n",
       "[116319 rows x 18 columns]"
      ]
     },
     "execution_count": 74,
     "metadata": {},
     "output_type": "execute_result"
    }
   ],
   "source": [
    "df"
   ]
  },
  {
   "cell_type": "code",
   "execution_count": 77,
   "metadata": {},
   "outputs": [
    {
     "name": "stdout",
     "output_type": "stream",
     "text": [
      "confusion matrix heatmap for 30000 records:\n"
     ]
    },
    {
     "data": {
      "image/png": "[encoded data removed]",
      "text/plain": [
       "<Figure size 400x300 with 1 Axes>"
      ]
     },
     "metadata": {},
     "output_type": "display_data"
    },
    {
     "name": "stdout",
     "output_type": "stream",
     "text": [
      "confusion matrix heatmap for 45000 records:\n"
     ]
    },
    {
     "data": {
      "image/png": "[encoded data removed]",
      "text/plain": [
       "<Figure size 400x300 with 1 Axes>"
      ]
     },
     "metadata": {},
     "output_type": "display_data"
    },
    {
     "name": "stdout",
     "output_type": "stream",
     "text": [
      "confusion matrix heatmap for 60000 records:\n"
     ]
    },
    {
     "data": {
      "image/png": "[encoded data removed]",
      "text/plain": [
       "<Figure size 400x300 with 1 Axes>"
      ]
     },
     "metadata": {},
     "output_type": "display_data"
    },
    {
     "name": "stdout",
     "output_type": "stream",
     "text": [
      "confusion matrix heatmap for 75000 records:\n"
     ]
    },
    {
     "data": {
      "image/png": "[encoded data removed]",
      "text/plain": [
       "<Figure size 400x300 with 1 Axes>"
      ]
     },
     "metadata": {},
     "output_type": "display_data"
    },
    {
     "name": "stdout",
     "output_type": "stream",
     "text": [
      "confusion matrix heatmap for 90000 records:\n"
     ]
    },
    {
     "data": {
      "image/png": "[encoded data removed]",
      "text/plain": [
       "<Figure size 400x300 with 1 Axes>"
      ]
     },
     "metadata": {},
     "output_type": "display_data"
    },
    {
     "name": "stdout",
     "output_type": "stream",
     "text": [
      "confusion matrix heatmap for 105000 records:\n"
     ]
    },
    {
     "data": {
      "image/png": "[encoded data removed]",
      "text/plain": [
       "<Figure size 400x300 with 1 Axes>"
      ]
     },
     "metadata": {},
     "output_type": "display_data"
    }
   ],
   "source": [
    "data_SMOTE = []\n",
    "def xgb_accuracy_smote(n=[10000,15000,20000,25000,30000,35000],xgdf = df,hmm = hmm,X_test=X_test,y_test=y_test,data=data_SMOTE):\n",
    "    for i in n:\n",
    "        df0 = xgdf[xgdf['Credit_Score']==0]\n",
    "        df1 = xgdf[xgdf['Credit_Score']==1]\n",
    "        df2 = xgdf[xgdf['Credit_Score']==2]\n",
    "        \n",
    "\n",
    "        \n",
    "        df0 = df0.sample(replace = False,n =i,random_state=42)\n",
    "        df1 = df1.sample(replace = False,n = i,random_state=42)\n",
    "        df2 = df2.sample(replace = False,n = i,random_state=42)\n",
    "        final_df = pd.concat([df0,df1,df2])\n",
    "\n",
    "        X_train = final_df.drop(columns=['Credit_Score'],axis=1)\n",
    "        y_train = final_df['Credit_Score']\n",
    "\n",
    "\n",
    "        \n",
    "\n",
    "        model = xgb.XGBClassifier()\n",
    "        model.fit(X_train, y_train)\n",
    "\n",
    "        y_pred = model.predict(X_test)\n",
    "        accuracy = accuracy_score(y_test, y_pred)\n",
    "        precision = precision_score(y_test,y_pred,average = 'weighted')\n",
    "        f1 = f1_score(y_test,y_pred,average = 'weighted')\n",
    "        recall = recall_score(y_test,y_pred,average = 'weighted')\n",
    "\n",
    "        confusion_matrix_display(y_test,y_pred,i*3)\n",
    "\n",
    "\n",
    "\n",
    "        indexx = i*3\n",
    "        l1 = [indexx,accuracy,precision,f1,recall]\n",
    "        data.append(l1)\n",
    "\n",
    "    \n",
    "xgb_accuracy_smote()"
   ]
  },
  {
   "cell_type": "code",
   "execution_count": 78,
   "metadata": {},
   "outputs": [
    {
     "data": {
      "text/html": [
       "<div>\n",
       "<style scoped>\n",
       "    .dataframe tbody tr th:only-of-type {\n",
       "        vertical-align: middle;\n",
       "    }\n",
       "\n",
       "    .dataframe tbody tr th {\n",
       "        vertical-align: top;\n",
       "    }\n",
       "\n",
       "    .dataframe thead th {\n",
       "        text-align: right;\n",
       "    }\n",
       "</style>\n",
       "<table border=\"1\" class=\"dataframe\">\n",
       "  <thead>\n",
       "    <tr style=\"text-align: right;\">\n",
       "      <th></th>\n",
       "      <th>Iterations</th>\n",
       "      <th>Accuracy</th>\n",
       "      <th>Precision</th>\n",
       "      <th>Recall</th>\n",
       "      <th>F1-score</th>\n",
       "    </tr>\n",
       "  </thead>\n",
       "  <tbody>\n",
       "    <tr>\n",
       "      <th>0</th>\n",
       "      <td>30000</td>\n",
       "      <td>0.672618</td>\n",
       "      <td>0.687833</td>\n",
       "      <td>0.676113</td>\n",
       "      <td>0.672618</td>\n",
       "    </tr>\n",
       "    <tr>\n",
       "      <th>1</th>\n",
       "      <td>45000</td>\n",
       "      <td>0.680434</td>\n",
       "      <td>0.694487</td>\n",
       "      <td>0.683574</td>\n",
       "      <td>0.680434</td>\n",
       "    </tr>\n",
       "    <tr>\n",
       "      <th>2</th>\n",
       "      <td>60000</td>\n",
       "      <td>0.684137</td>\n",
       "      <td>0.697712</td>\n",
       "      <td>0.687187</td>\n",
       "      <td>0.684137</td>\n",
       "    </tr>\n",
       "    <tr>\n",
       "      <th>3</th>\n",
       "      <td>75000</td>\n",
       "      <td>0.691583</td>\n",
       "      <td>0.703263</td>\n",
       "      <td>0.694405</td>\n",
       "      <td>0.691583</td>\n",
       "    </tr>\n",
       "    <tr>\n",
       "      <th>4</th>\n",
       "      <td>90000</td>\n",
       "      <td>0.692653</td>\n",
       "      <td>0.706421</td>\n",
       "      <td>0.695687</td>\n",
       "      <td>0.692653</td>\n",
       "    </tr>\n",
       "    <tr>\n",
       "      <th>5</th>\n",
       "      <td>105000</td>\n",
       "      <td>0.690760</td>\n",
       "      <td>0.704483</td>\n",
       "      <td>0.693820</td>\n",
       "      <td>0.690760</td>\n",
       "    </tr>\n",
       "  </tbody>\n",
       "</table>\n",
       "</div>"
      ],
      "text/plain": [
       "   Iterations  Accuracy  Precision    Recall  F1-score\n",
       "0       30000  0.672618   0.687833  0.676113  0.672618\n",
       "1       45000  0.680434   0.694487  0.683574  0.680434\n",
       "2       60000  0.684137   0.697712  0.687187  0.684137\n",
       "3       75000  0.691583   0.703263  0.694405  0.691583\n",
       "4       90000  0.692653   0.706421  0.695687  0.692653\n",
       "5      105000  0.690760   0.704483  0.693820  0.690760"
      ]
     },
     "execution_count": 78,
     "metadata": {},
     "output_type": "execute_result"
    }
   ],
   "source": [
    "columns = ['Iterations','Accuracy','Precision', 'Recall', 'F1-score']\n",
    "scores_df = pd.DataFrame(columns=columns,data=data_SMOTE)\n",
    "scores_df"
   ]
  },
  {
   "cell_type": "markdown",
   "metadata": {},
   "source": [
    "### Summary\n"
   ]
  },
  {
   "cell_type": "markdown",
   "metadata": {},
   "source": [
    "- We started off with a base xgboost model and ran it across different sample sizes of our dataset.\n",
    "- It showed best results accuracy wise on the highest sample size of 45000 records. Taking this into consideration we have taken oversampling of data later into consideration.\n",
    "- We tuned the hyperparamters to see if the model performs better compared to the base model however the base model outperformed the tuned model.\n",
    "- Finally, We used SMOTE to see if this improves the models performance however we see that the model's performance dips after the smote analysis. Hence, the initial model which fit over 45000 records is the best model performance metrics wise."
   ]
  },
  {
   "cell_type": "markdown",
   "metadata": {},
   "source": []
  }
 ],
 "metadata": {
  "kernelspec": {
   "display_name": "Python 3",
   "language": "python",
   "name": "python3"
  },
  "language_info": {
   "codemirror_mode": {
    "name": "ipython",
    "version": 3
   },
   "file_extension": ".py",
   "mimetype": "text/x-python",
   "name": "python",
   "nbconvert_exporter": "python",
   "pygments_lexer": "ipython3",
   "version": "3.11.7"
  }
 },
 "nbformat": 4,
 "nbformat_minor": 2
}
