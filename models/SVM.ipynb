{
 "cells": [
  {
   "cell_type": "code",
   "execution_count": 216,
   "metadata": {},
   "outputs": [],
   "source": [
    "import pandas as pd\n",
    "import numpy as np\n",
    "import matplotlib.pyplot as plt\n",
    "import seaborn as sns\n",
    "import warnings\n",
    "warnings.filterwarnings(\"ignore\")"
   ]
  },
  {
   "cell_type": "code",
   "execution_count": 217,
   "metadata": {},
   "outputs": [],
   "source": [
    "svmdf = pd.read_csv('../processed-data/processed-data.csv')"
   ]
  },
  {
   "cell_type": "markdown",
   "metadata": {},
   "source": [
    "Now let us see what is the dataset which we will be working with for the classification"
   ]
  },
  {
   "cell_type": "code",
   "execution_count": 218,
   "metadata": {},
   "outputs": [
    {
     "data": {
      "text/html": [
       "<div>\n",
       "<style scoped>\n",
       "    .dataframe tbody tr th:only-of-type {\n",
       "        vertical-align: middle;\n",
       "    }\n",
       "\n",
       "    .dataframe tbody tr th {\n",
       "        vertical-align: top;\n",
       "    }\n",
       "\n",
       "    .dataframe thead th {\n",
       "        text-align: right;\n",
       "    }\n",
       "</style>\n",
       "<table border=\"1\" class=\"dataframe\">\n",
       "  <thead>\n",
       "    <tr style=\"text-align: right;\">\n",
       "      <th></th>\n",
       "      <th>Unnamed: 0</th>\n",
       "      <th>Age</th>\n",
       "      <th>Occupation</th>\n",
       "      <th>Annual_Income</th>\n",
       "      <th>Num_Bank_Accounts</th>\n",
       "      <th>Interest_Rate</th>\n",
       "      <th>Num_of_Loan</th>\n",
       "      <th>Num_of_Delayed_Payment</th>\n",
       "      <th>Num_Credit_Inquiries</th>\n",
       "      <th>Credit_Mix</th>\n",
       "      <th>Credit_Utilization_Ratio</th>\n",
       "      <th>Credit_History_Age</th>\n",
       "      <th>Payment_of_Min_Amount</th>\n",
       "      <th>Total_EMI_per_month</th>\n",
       "      <th>Amount_invested_monthly</th>\n",
       "      <th>Payment_Behaviour</th>\n",
       "      <th>Monthly_Balance</th>\n",
       "      <th>Credit_Score</th>\n",
       "      <th>pca_component_1</th>\n",
       "      <th>pca_component_2</th>\n",
       "    </tr>\n",
       "  </thead>\n",
       "  <tbody>\n",
       "    <tr>\n",
       "      <th>0</th>\n",
       "      <td>0</td>\n",
       "      <td>23</td>\n",
       "      <td>12</td>\n",
       "      <td>19114.12</td>\n",
       "      <td>3</td>\n",
       "      <td>3</td>\n",
       "      <td>4</td>\n",
       "      <td>7.0</td>\n",
       "      <td>1</td>\n",
       "      <td>1.0</td>\n",
       "      <td>26.822620</td>\n",
       "      <td>22.0833</td>\n",
       "      <td>0</td>\n",
       "      <td>49.574949</td>\n",
       "      <td>4.387204</td>\n",
       "      <td>3</td>\n",
       "      <td>312.494089</td>\n",
       "      <td>2.0</td>\n",
       "      <td>-616.432092</td>\n",
       "      <td>-13.474437</td>\n",
       "    </tr>\n",
       "    <tr>\n",
       "      <th>1</th>\n",
       "      <td>1</td>\n",
       "      <td>23</td>\n",
       "      <td>12</td>\n",
       "      <td>19114.12</td>\n",
       "      <td>3</td>\n",
       "      <td>3</td>\n",
       "      <td>4</td>\n",
       "      <td>14.0</td>\n",
       "      <td>1</td>\n",
       "      <td>2.0</td>\n",
       "      <td>31.944960</td>\n",
       "      <td>0.0000</td>\n",
       "      <td>0</td>\n",
       "      <td>49.574949</td>\n",
       "      <td>4.773057</td>\n",
       "      <td>4</td>\n",
       "      <td>284.629162</td>\n",
       "      <td>2.0</td>\n",
       "      <td>-616.461504</td>\n",
       "      <td>-17.472881</td>\n",
       "    </tr>\n",
       "    <tr>\n",
       "      <th>2</th>\n",
       "      <td>3</td>\n",
       "      <td>23</td>\n",
       "      <td>12</td>\n",
       "      <td>19114.12</td>\n",
       "      <td>3</td>\n",
       "      <td>3</td>\n",
       "      <td>4</td>\n",
       "      <td>4.0</td>\n",
       "      <td>1</td>\n",
       "      <td>2.0</td>\n",
       "      <td>31.377862</td>\n",
       "      <td>22.3333</td>\n",
       "      <td>0</td>\n",
       "      <td>49.574949</td>\n",
       "      <td>5.295604</td>\n",
       "      <td>6</td>\n",
       "      <td>223.451310</td>\n",
       "      <td>2.0</td>\n",
       "      <td>-616.410033</td>\n",
       "      <td>-10.475604</td>\n",
       "    </tr>\n",
       "    <tr>\n",
       "      <th>3</th>\n",
       "      <td>4</td>\n",
       "      <td>23</td>\n",
       "      <td>12</td>\n",
       "      <td>19114.12</td>\n",
       "      <td>3</td>\n",
       "      <td>3</td>\n",
       "      <td>4</td>\n",
       "      <td>14.0</td>\n",
       "      <td>1</td>\n",
       "      <td>2.0</td>\n",
       "      <td>24.797347</td>\n",
       "      <td>22.4167</td>\n",
       "      <td>0</td>\n",
       "      <td>49.574949</td>\n",
       "      <td>3.723768</td>\n",
       "      <td>2</td>\n",
       "      <td>341.489231</td>\n",
       "      <td>2.0</td>\n",
       "      <td>-616.400608</td>\n",
       "      <td>-8.530153</td>\n",
       "    </tr>\n",
       "    <tr>\n",
       "      <th>4</th>\n",
       "      <td>5</td>\n",
       "      <td>23</td>\n",
       "      <td>12</td>\n",
       "      <td>19114.12</td>\n",
       "      <td>3</td>\n",
       "      <td>3</td>\n",
       "      <td>4</td>\n",
       "      <td>4.0</td>\n",
       "      <td>1</td>\n",
       "      <td>2.0</td>\n",
       "      <td>27.262259</td>\n",
       "      <td>22.5000</td>\n",
       "      <td>0</td>\n",
       "      <td>49.574949</td>\n",
       "      <td>4.134049</td>\n",
       "      <td>0</td>\n",
       "      <td>340.479212</td>\n",
       "      <td>2.0</td>\n",
       "      <td>-616.432092</td>\n",
       "      <td>-13.474437</td>\n",
       "    </tr>\n",
       "  </tbody>\n",
       "</table>\n",
       "</div>"
      ],
      "text/plain": [
       "   Unnamed: 0  Age  Occupation  Annual_Income  Num_Bank_Accounts  \\\n",
       "0           0   23          12       19114.12                  3   \n",
       "1           1   23          12       19114.12                  3   \n",
       "2           3   23          12       19114.12                  3   \n",
       "3           4   23          12       19114.12                  3   \n",
       "4           5   23          12       19114.12                  3   \n",
       "\n",
       "   Interest_Rate  Num_of_Loan  Num_of_Delayed_Payment  Num_Credit_Inquiries  \\\n",
       "0              3            4                     7.0                     1   \n",
       "1              3            4                    14.0                     1   \n",
       "2              3            4                     4.0                     1   \n",
       "3              3            4                    14.0                     1   \n",
       "4              3            4                     4.0                     1   \n",
       "\n",
       "   Credit_Mix  Credit_Utilization_Ratio  Credit_History_Age  \\\n",
       "0         1.0                 26.822620             22.0833   \n",
       "1         2.0                 31.944960              0.0000   \n",
       "2         2.0                 31.377862             22.3333   \n",
       "3         2.0                 24.797347             22.4167   \n",
       "4         2.0                 27.262259             22.5000   \n",
       "\n",
       "   Payment_of_Min_Amount  Total_EMI_per_month  Amount_invested_monthly  \\\n",
       "0                      0            49.574949                 4.387204   \n",
       "1                      0            49.574949                 4.773057   \n",
       "2                      0            49.574949                 5.295604   \n",
       "3                      0            49.574949                 3.723768   \n",
       "4                      0            49.574949                 4.134049   \n",
       "\n",
       "   Payment_Behaviour  Monthly_Balance  Credit_Score  pca_component_1  \\\n",
       "0                  3       312.494089           2.0      -616.432092   \n",
       "1                  4       284.629162           2.0      -616.461504   \n",
       "2                  6       223.451310           2.0      -616.410033   \n",
       "3                  2       341.489231           2.0      -616.400608   \n",
       "4                  0       340.479212           2.0      -616.432092   \n",
       "\n",
       "   pca_component_2  \n",
       "0       -13.474437  \n",
       "1       -17.472881  \n",
       "2       -10.475604  \n",
       "3        -8.530153  \n",
       "4       -13.474437  "
      ]
     },
     "execution_count": 218,
     "metadata": {},
     "output_type": "execute_result"
    }
   ],
   "source": [
    "svmdf.head()"
   ]
  },
  {
   "cell_type": "code",
   "execution_count": 219,
   "metadata": {},
   "outputs": [
    {
     "data": {
      "text/plain": [
       "(97230, 20)"
      ]
     },
     "execution_count": 219,
     "metadata": {},
     "output_type": "execute_result"
    }
   ],
   "source": [
    "svmdf.shape"
   ]
  },
  {
   "cell_type": "code",
   "execution_count": 220,
   "metadata": {},
   "outputs": [
    {
     "data": {
      "text/plain": [
       "Unnamed: 0                    int64\n",
       "Age                           int64\n",
       "Occupation                    int64\n",
       "Annual_Income               float64\n",
       "Num_Bank_Accounts             int64\n",
       "Interest_Rate                 int64\n",
       "Num_of_Loan                   int64\n",
       "Num_of_Delayed_Payment      float64\n",
       "Num_Credit_Inquiries          int64\n",
       "Credit_Mix                  float64\n",
       "Credit_Utilization_Ratio    float64\n",
       "Credit_History_Age          float64\n",
       "Payment_of_Min_Amount         int64\n",
       "Total_EMI_per_month         float64\n",
       "Amount_invested_monthly     float64\n",
       "Payment_Behaviour             int64\n",
       "Monthly_Balance             float64\n",
       "Credit_Score                float64\n",
       "pca_component_1             float64\n",
       "pca_component_2             float64\n",
       "dtype: object"
      ]
     },
     "execution_count": 220,
     "metadata": {},
     "output_type": "execute_result"
    }
   ],
   "source": [
    "svmdf.dtypes"
   ]
  },
  {
   "cell_type": "code",
   "execution_count": 221,
   "metadata": {},
   "outputs": [
    {
     "data": {
      "text/plain": [
       "Unnamed: 0                  0\n",
       "Age                         0\n",
       "Occupation                  0\n",
       "Annual_Income               0\n",
       "Num_Bank_Accounts           0\n",
       "Interest_Rate               0\n",
       "Num_of_Loan                 0\n",
       "Num_of_Delayed_Payment      0\n",
       "Num_Credit_Inquiries        0\n",
       "Credit_Mix                  0\n",
       "Credit_Utilization_Ratio    0\n",
       "Credit_History_Age          0\n",
       "Payment_of_Min_Amount       0\n",
       "Total_EMI_per_month         0\n",
       "Amount_invested_monthly     0\n",
       "Payment_Behaviour           0\n",
       "Monthly_Balance             0\n",
       "Credit_Score                0\n",
       "pca_component_1             0\n",
       "pca_component_2             0\n",
       "dtype: int64"
      ]
     },
     "execution_count": 221,
     "metadata": {},
     "output_type": "execute_result"
    }
   ],
   "source": [
    "svmdf.isna().sum()"
   ]
  },
  {
   "cell_type": "code",
   "execution_count": 222,
   "metadata": {},
   "outputs": [
    {
     "data": {
      "text/plain": [
       "(97230, 19)"
      ]
     },
     "execution_count": 222,
     "metadata": {},
     "output_type": "execute_result"
    }
   ],
   "source": [
    "svmdf.drop(columns='Unnamed: 0',axis = 1,inplace=True)\n",
    "svmdf.dropna(inplace=True)\n",
    "svmdf.shape"
   ]
  },
  {
   "cell_type": "markdown",
   "metadata": {},
   "source": [
    "We are dealing with a dataset which has over 90,000 records and 19 columns so we shall first sample the data to reduce the number of records to work with to increase the accuracy of the svm model.\n",
    "\n",
    "To handle data imbalance we will take undersampled records from each of the three target variable categories and find out the optimum number for the model analysis.\n"
   ]
  },
  {
   "cell_type": "code",
   "execution_count": 223,
   "metadata": {},
   "outputs": [],
   "source": [
    "from sklearn.model_selection import train_test_split\n",
    "from sklearn.svm import SVC\n",
    "from sklearn.metrics import confusion_matrix\n",
    "from sklearn.metrics import precision_score, recall_score,f1_score,accuracy_score\n",
    "\n"
   ]
  },
  {
   "cell_type": "code",
   "execution_count": 224,
   "metadata": {},
   "outputs": [],
   "source": [
    "def confusion_matrix_display(actual,predicted,n):\n",
    "    conf_matrix =confusion_matrix(actual, predicted)\n",
    "    print(f\"confusion matrix heatmap for {n} records:\")\n",
    "    plt.figure(figsize=(4, 3))\n",
    "    sns.heatmap(conf_matrix, fmt='d', cmap='Blues', cbar=False,\n",
    "            xticklabels=['Predicted Poor', 'Predicted Standard','Predicted Good'],\n",
    "            yticklabels=['True Poor', 'True Standard','True Good'])\n",
    "    plt.xlabel('Predicted')\n",
    "    plt.ylabel('Actual')\n",
    "    plt.title('Confusion Matrix')\n",
    "    plt.show()\n",
    "    "
   ]
  },
  {
   "cell_type": "code",
   "execution_count": 225,
   "metadata": {},
   "outputs": [
    {
     "name": "stdout",
     "output_type": "stream",
     "text": [
      "confusion matrix heatmap for 3000 records:\n"
     ]
    },
    {
     "data": {
      "image/png": "[encoded data removed]",
      "text/plain": [
       "<Figure size 400x300 with 1 Axes>"
      ]
     },
     "metadata": {},
     "output_type": "display_data"
    },
    {
     "name": "stdout",
     "output_type": "stream",
     "text": [
      "confusion matrix heatmap for 6000 records:\n"
     ]
    },
    {
     "data": {
      "image/png": "[encoded data removed]",
      "text/plain": [
       "<Figure size 400x300 with 1 Axes>"
      ]
     },
     "metadata": {},
     "output_type": "display_data"
    },
    {
     "name": "stdout",
     "output_type": "stream",
     "text": [
      "confusion matrix heatmap for 9000 records:\n"
     ]
    },
    {
     "data": {
      "image/png": "[encoded data removed]",
      "text/plain": [
       "<Figure size 400x300 with 1 Axes>"
      ]
     },
     "metadata": {},
     "output_type": "display_data"
    },
    {
     "name": "stdout",
     "output_type": "stream",
     "text": [
      "confusion matrix heatmap for 12000 records:\n"
     ]
    },
    {
     "data": {
      "image/png": "[encoded data removed]",
      "text/plain": [
       "<Figure size 400x300 with 1 Axes>"
      ]
     },
     "metadata": {},
     "output_type": "display_data"
    }
   ],
   "source": [
    "data = []\n",
    "init_accuracy = 0\n",
    "hmm = [[]]\n",
    "def svm_accuracy(n=[1000,2000,3000,4000,5000],svmdf = svmdf,hmm = hmm):\n",
    "    for i in n:\n",
    "        df0 = svmdf[svmdf['Credit_Score']==0]\n",
    "        df1 = svmdf[svmdf['Credit_Score']==1]\n",
    "        df2 = svmdf[svmdf['Credit_Score']==2]\n",
    "        \n",
    "\n",
    "        #resampling the data to make SVM more efficient\n",
    "        df0 = df0.sample(replace = False,n =i,random_state=42)\n",
    "        df1 = df1.sample(replace = False,n = i,random_state=42)\n",
    "        df2 = df2.sample(replace = False,n = i,random_state=42)\n",
    "        final_df = pd.concat([df0,df1,df2])\n",
    "\n",
    "        X = final_df.drop(columns=['Credit_Score','Amount_invested_monthly'],axis=1)\n",
    "        y = final_df['Credit_Score']\n",
    "\n",
    "\n",
    "        X_train,X_test,y_train,y_test = train_test_split(X,y,test_size=0.25,random_state=42)\n",
    "\n",
    "\n",
    "        clf_svm = SVC(random_state=42)\n",
    "        clf_svm.fit(X_train,y_train)\n",
    "\n",
    "        y_pred = clf_svm.predict(X_test)\n",
    "        accuracy = accuracy_score(y_test, y_pred)\n",
    "        precision = precision_score(y_test,y_pred,average = 'weighted')\n",
    "        f1 = f1_score(y_test,y_pred,average = 'weighted')\n",
    "        recall = recall_score(y_test,y_pred,average = 'weighted')\n",
    "\n",
    "        confusion_matrix_display(y_test,y_pred,i*3)\n",
    "\n",
    "\n",
    "\n",
    "        indexx = i*3\n",
    "        l1 = [indexx,accuracy,precision,f1,recall]\n",
    "        data.append(l1)\n",
    "\n",
    "    \n",
    "svm_accuracy()\n",
    "\n"
   ]
  },
  {
   "cell_type": "code",
   "execution_count": 226,
   "metadata": {},
   "outputs": [
    {
     "data": {
      "text/html": [
       "<div>\n",
       "<style scoped>\n",
       "    .dataframe tbody tr th:only-of-type {\n",
       "        vertical-align: middle;\n",
       "    }\n",
       "\n",
       "    .dataframe tbody tr th {\n",
       "        vertical-align: top;\n",
       "    }\n",
       "\n",
       "    .dataframe thead th {\n",
       "        text-align: right;\n",
       "    }\n",
       "</style>\n",
       "<table border=\"1\" class=\"dataframe\">\n",
       "  <thead>\n",
       "    <tr style=\"text-align: right;\">\n",
       "      <th></th>\n",
       "      <th>Iterations</th>\n",
       "      <th>Accuracy</th>\n",
       "      <th>Precision</th>\n",
       "      <th>Recall</th>\n",
       "      <th>F1-score</th>\n",
       "    </tr>\n",
       "  </thead>\n",
       "  <tbody>\n",
       "    <tr>\n",
       "      <th>0</th>\n",
       "      <td>3000</td>\n",
       "      <td>0.365333</td>\n",
       "      <td>0.446612</td>\n",
       "      <td>0.280100</td>\n",
       "      <td>0.365333</td>\n",
       "    </tr>\n",
       "    <tr>\n",
       "      <th>1</th>\n",
       "      <td>6000</td>\n",
       "      <td>0.410667</td>\n",
       "      <td>0.390813</td>\n",
       "      <td>0.342886</td>\n",
       "      <td>0.410667</td>\n",
       "    </tr>\n",
       "    <tr>\n",
       "      <th>2</th>\n",
       "      <td>9000</td>\n",
       "      <td>0.404000</td>\n",
       "      <td>0.367915</td>\n",
       "      <td>0.325035</td>\n",
       "      <td>0.404000</td>\n",
       "    </tr>\n",
       "    <tr>\n",
       "      <th>3</th>\n",
       "      <td>12000</td>\n",
       "      <td>0.423000</td>\n",
       "      <td>0.430962</td>\n",
       "      <td>0.356250</td>\n",
       "      <td>0.423000</td>\n",
       "    </tr>\n",
       "  </tbody>\n",
       "</table>\n",
       "</div>"
      ],
      "text/plain": [
       "   Iterations  Accuracy  Precision    Recall  F1-score\n",
       "0        3000  0.365333   0.446612  0.280100  0.365333\n",
       "1        6000  0.410667   0.390813  0.342886  0.410667\n",
       "2        9000  0.404000   0.367915  0.325035  0.404000\n",
       "3       12000  0.423000   0.430962  0.356250  0.423000"
      ]
     },
     "execution_count": 226,
     "metadata": {},
     "output_type": "execute_result"
    }
   ],
   "source": [
    "columns = ['Iterations','Accuracy','Precision', 'Recall', 'F1-score']\n",
    "scores_df = pd.DataFrame(columns=columns,data=data)\n",
    "scores_df"
   ]
  },
  {
   "cell_type": "markdown",
   "metadata": {},
   "source": [
    "- We have experimented with various test sizes over how the model performs over each one of them. We find that the model gives best performance with 12000 records so we shall now see how it performs after tuning its hyperparameters."
   ]
  },
  {
   "cell_type": "markdown",
   "metadata": {},
   "source": [
    "### HYPERPARAMETER TUNING"
   ]
  },
  {
   "cell_type": "code",
   "execution_count": 227,
   "metadata": {},
   "outputs": [],
   "source": [
    "from sklearn.model_selection import KFold,cross_val_score, RepeatedStratifiedKFold,StratifiedKFold,GridSearchCV\n"
   ]
  },
  {
   "cell_type": "code",
   "execution_count": 228,
   "metadata": {},
   "outputs": [],
   "source": [
    "df0 = svmdf[svmdf['Credit_Score']==0]\n",
    "df1 = svmdf[svmdf['Credit_Score']==1]\n",
    "df2 = svmdf[svmdf['Credit_Score']==2]\n",
    "        \n",
    "\n",
    "        \n",
    "df0 = df0.sample(replace = False,n =1000,random_state=42)\n",
    "df1 = df1.sample(replace = False,n = 1000,random_state=42)\n",
    "df2 = df2.sample(replace = False,n = 1000,random_state=42)\n",
    "final_df = pd.concat([df0,df1,df2])\n",
    "\n",
    "X = final_df.drop(columns=['Credit_Score','Amount_invested_monthly'],axis=1)\n",
    "y = final_df['Credit_Score']\n",
    "X_train,X_test,y_train,y_test = train_test_split(X,y,test_size=0.25,random_state=42)"
   ]
  },
  {
   "cell_type": "code",
   "execution_count": 229,
   "metadata": {},
   "outputs": [
    {
     "data": {
      "text/plain": [
       "{'C': 5, 'kernel': 'rbf', 'shrinking': True}"
      ]
     },
     "execution_count": 229,
     "metadata": {},
     "output_type": "execute_result"
    }
   ],
   "source": [
    "SVC_model = SVC(random_state=42)\n",
    "\n",
    "params = {}\n",
    "params['shrinking'] = [True]\n",
    "params['C'] = [1,0.5,5,0.05]\n",
    "params['kernel'] = ['rbf','sigmoid']\n",
    "cv = KFold(n_splits=5,shuffle=True,random_state=42)\n",
    "gridsvm = GridSearchCV(SVC_model,param_grid=params,scoring='accuracy',n_jobs = -1,cv = cv)\n",
    "\n",
    "gridsvm.fit(X_train,y_train)\n",
    "gridsvm.best_params_\n"
   ]
  },
  {
   "cell_type": "code",
   "execution_count": 230,
   "metadata": {},
   "outputs": [
    {
     "name": "stdout",
     "output_type": "stream",
     "text": [
      "0.42933333333333334\n"
     ]
    }
   ],
   "source": [
    "y_pred = gridsvm.predict(X_test)\n",
    "accuracy = accuracy_score(y_test, y_pred)\n",
    "print(accuracy)"
   ]
  },
  {
   "cell_type": "markdown",
   "metadata": {},
   "source": [
    "-- We have finished testing with the various hyperparamters of the svm model and we see that the kernel giving us the best performance is the rbf kernel hence indicating the data has a complex and non-linear pattern like clusters.\n",
    "\n",
    "-- We were able to improve the model accuracy by 1% by finding the right hyperparameters and we have plateaued at about 43% accuracy with our svm model."
   ]
  }
 ],
 "metadata": {
  "kernelspec": {
   "display_name": "Python 3",
   "language": "python",
   "name": "python3"
  },
  "language_info": {
   "codemirror_mode": {
    "name": "ipython",
    "version": 3
   },
   "file_extension": ".py",
   "mimetype": "text/x-python",
   "name": "python",
   "nbconvert_exporter": "python",
   "pygments_lexer": "ipython3",
   "version": "3.11.7"
  }
 },
 "nbformat": 4,
 "nbformat_minor": 2
}
